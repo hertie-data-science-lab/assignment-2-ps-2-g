{
  "cells": [
    {
      "cell_type": "markdown",
      "metadata": {
        "id": "13i7KQ9t-CV8"
      },
      "source": [
        "# Problem set 2\n",
        "\n",
        "## Team\n",
        "Please write here your names and team number.\n",
        "\n",
        "* Team name: PS 2 G\n",
        "* Team members: Minho Kang (239742)\n",
        "                Padma Bareddy (236167)\n",
        "                Saurav Kumar Jha (249354)\n",
        "\n",
        "## Using Colab with GitHub\n",
        "To utilize GPU support for model training, we highly recommend to open this notebook with Google Colab. Simply, change the domain from 'github.com' to 'githubtocolab.com' and refresh the site to open the notebook in Colab.\n",
        "If you haven't used Colab before with private repositories, make sure to grant Colab access to your private repositories (see screenshot) and after that just try to change the domain again.\n",
        "\n",
        "Finally, you should make sure that you add a GPU to your Colab notebook. You can do so by clicking on `Runtime` →  `Change runtime type` → `Hardware accelerator`  →  `GPU`.\n",
        "\n",
        "## Submission\n",
        "\n",
        "Make sure that you always commit and push the changes you make in Colab back to GitHub. To do so from within a Colab notebook, click `File` → `Save a copy in GitHub`. You will be prompted to add a commit message, and after you click OK, the notebook will be pushed to your repository. Only changes that are visible in your GitHub repository on the main branch will be considered for grading. If you close Colab in your browser without pushing your changes to GitHub or saving them on Google Drive, they will be lost.\n",
        "\n",
        "Make sure that all your work has been pushed to GitHub before the deadline.\n"
      ]
    },
    {
      "cell_type": "markdown",
      "metadata": {
        "id": "8ffVUKx7P6RD"
      },
      "source": [
        "Check that the GPU  enabled in your colab notebook by running the cell below."
      ]
    },
    {
      "cell_type": "code",
      "execution_count": 1,
      "metadata": {
        "colab": {
          "base_uri": "https://localhost:8080/"
        },
        "id": "GPzhNed7P2i9",
        "outputId": "daf5d8a8-4083-4481-97e4-c3b16b455b7d"
      },
      "outputs": [
        {
          "output_type": "stream",
          "name": "stdout",
          "text": [
            "Device: cpu\n"
          ]
        }
      ],
      "source": [
        "import torch\n",
        "# Check is GPU is enabled\n",
        "device = torch.device(\"cuda:0\" if torch.cuda.is_available() else \"cpu\")\n",
        "print(\"Device: {}\".format(device))\n",
        "\n",
        "# Get specific GPU model\n",
        "if str(device) == \"cuda:0\":\n",
        "  print(\"GPU: {}\".format(torch.cuda.get_device_name(0)))"
      ]
    },
    {
      "cell_type": "markdown",
      "metadata": {
        "id": "29zJt4eFI25Y"
      },
      "source": [
        "You will be working with the EuroSAT dataset. The dataset contains 8489 pictures of 3 different land coverage types (crop, herbaceous vegetation and river). Running the lines below will download the data and return a random picture from the dataset."
      ]
    },
    {
      "cell_type": "code",
      "execution_count": 2,
      "metadata": {
        "colab": {
          "base_uri": "https://localhost:8080/",
          "height": 132
        },
        "id": "7MgSuuP3Kjx0",
        "outputId": "bb4fd5b5-cf2a-4bc5-88c2-c10de8722725"
      },
      "outputs": [
        {
          "output_type": "stream",
          "name": "stderr",
          "text": [
            "100%|██████████| 94.3M/94.3M [00:00<00:00, 343MB/s]\n"
          ]
        },
        {
          "output_type": "stream",
          "name": "stdout",
          "text": [
            "The dataset has 27000 images\n",
            "Picture number 5207 with label: 1\n"
          ]
        },
        {
          "output_type": "execute_result",
          "data": {
            "text/plain": [
              "<PIL.Image.Image image mode=RGB size=64x64>"
            ],
            "image/png": "[encoded data removed]",
            "image/jpeg": "[encoded data removed]"
          },
          "metadata": {},
          "execution_count": 2
        }
      ],
      "source": [
        "from torchvision.datasets import EuroSAT\n",
        "import os\n",
        "import numpy as np\n",
        "\n",
        "data = EuroSAT(root=os.getcwd(), download=True) #downloads the dataset to your current directory\n",
        "print(f\"The dataset has {len(data)} images\")\n",
        "randint = np.random.randint(len(data))\n",
        "\n",
        "pic, tar = data[randint]\n",
        "print(f\"Picture number {randint} with label: {tar}\")\n",
        "pic"
      ]
    },
    {
      "cell_type": "markdown",
      "metadata": {
        "id": "99jkSa_KmrDH"
      },
      "source": [
        "# Task 1: Transform the data (10 pt)\n",
        "\n",
        " Your task is to train a classifier to classify the different land usage types in the dataset. We want to select only the 50 most frequent people in the dataset, all the other people should be mapped to a common class.\n",
        "- Implement the class `rotate` that maps pictures to flipped pictures by 90, 180, 270 or 360°. The class should return an error if you try to rotate the picture by other degrees.\n",
        "- Plot a histogram with the frequencies of each class. Make sure to insert both name and label in the histogram (e.g. `AnnualCrop:0`).\n",
        "- We create a class `RotateEuroSAT` that takes as input the original dataset and returns a new dataset which contains randomly rotated pictures and whose label proportion can be customized.\n",
        "Implement the class method `_create_rotated_dataset` that returns this pictures using the previously implemented `rotate`.\n",
        "- `RotateEuroSAT` should also take care of transforming the pictures to tensors and optionally move the tensor to a GPU device."
      ]
    },
    {
      "cell_type": "code",
      "execution_count": 3,
      "metadata": {
        "colab": {
          "base_uri": "https://localhost:8080/",
          "height": 635
        },
        "id": "43onRqgGmalG",
        "outputId": "b1e2b0a4-74b9-4ce3-cbf8-1d90e0dbb79d"
      },
      "outputs": [
        {
          "output_type": "display_data",
          "data": {
            "text/plain": [
              "<Figure size 1000x600 with 1 Axes>"
            ],
            "image/png": "[encoded data removed]"
          },
          "metadata": {}
        }
      ],
      "source": [
        "import random\n",
        "from torch.utils.data import Subset, Dataset, random_split\n",
        "import matplotlib.pyplot as plt\n",
        "import numpy as np\n",
        "from PIL import Image\n",
        "from collections import Counter\n",
        "from torchvision import transforms\n",
        "\n",
        "def rotate_picture(picture, rotation):\n",
        "  \"\"\"\n",
        "  Rotate the image by the given degrees: 90, 180, 270, or 360.\n",
        "\n",
        "  :param picture: Image to rotate\n",
        "  :param rotation: Rotation in degrees\n",
        "  :return: Rotated image\n",
        "  \"\"\"\n",
        "\n",
        "  # raise error\n",
        "  if rotation not in [90, 180, 270, 360]:\n",
        "    raise ValueError(\"Rotation angle should be 90, 180, 270, or 360\")\n",
        "\n",
        "  return picture.rotate(rotation)\n",
        "\n",
        "\n",
        "def plot_histogram(data):\n",
        "  \"\"\"\n",
        "\n",
        "  Plot a histogram with the frequencies of each class.\n",
        "\n",
        "  data: EuroSAT dataset\n",
        "  return: fig, ax\n",
        "  \"\"\"\n",
        "\n",
        "  fig, ax = plt.subplots(figsize=(10, 6))\n",
        "\n",
        "  # Extract labels from dataset\n",
        "  labels = [item[1] for item in data]\n",
        "\n",
        "  # Get class names from the dataset\n",
        "  classes_names = data.classes\n",
        "\n",
        "  # calculate frequencies of each class\n",
        "  label_counts = Counter(labels)\n",
        "\n",
        "  # prepare data for plotting\n",
        "  label_indices = list(label_counts.keys())\n",
        "  counts = list(label_counts.values())\n",
        "  class_labels = [classes_names[idx] for idx in label_indices]  # Map labels to class names\n",
        "\n",
        "\n",
        "  # plot the histogram\n",
        "  ax.bar(label_indices, counts)\n",
        "  ax.set_xlabel('Class')\n",
        "  ax.set_ylabel('Frequency')\n",
        "  ax.set_title('Class Frequency Histogram')\n",
        "\n",
        "  # annotating each bar with the count\n",
        "  for i, count in enumerate(counts):\n",
        "    ax.text(label_indices[i], count + 0.1, f\"{class_labels[i]}:{label_indices[i]}\",\n",
        "            ha='center',rotation=45, fontsize=9)\n",
        "\n",
        "  return fig, ax\n",
        "\n",
        "\n",
        "new_pic = rotate_picture(pic, 90) # Example of rotating a picture by 90 degrees\n",
        "same_pic = rotate_picture(pic, 360) # Example of rotating a picture by 360 degrees (should return the same picture)\n",
        "fig, ax = plot_histogram(data)\n",
        "fig.show()"
      ]
    },
    {
      "cell_type": "code",
      "execution_count": 4,
      "metadata": {
        "colab": {
          "base_uri": "https://localhost:8080/",
          "height": 327
        },
        "id": "9jEZFpHtMpmL",
        "outputId": "c23db1eb-edef-44f4-f2bb-0d257ac31f3f"
      },
      "outputs": [
        {
          "output_type": "execute_result",
          "data": {
            "text/plain": [
              "Text(0.5, 1.0, 'Rotated by 360°')"
            ]
          },
          "metadata": {},
          "execution_count": 4
        },
        {
          "output_type": "display_data",
          "data": {
            "text/plain": [
              "<Figure size 1000x500 with 3 Axes>"
            ],
            "image/png": "[encoded data removed]"
          },
          "metadata": {}
        }
      ],
      "source": [
        "fig, axes = plt.subplots(1, 3, figsize=(10, 5))\n",
        "\n",
        "axes[0].imshow(pic)\n",
        "axes[0].set_title(\"Original picture\")\n",
        "axes[1].imshow(new_pic)\n",
        "axes[1].set_title(\"Rotated by 90°\")\n",
        "axes[2].imshow(same_pic)\n",
        "axes[2].set_title(\"Rotated by 360°\")"
      ]
    },
    {
      "cell_type": "code",
      "execution_count": 5,
      "metadata": {
        "id": "zD-Ij7cAt_wu"
      },
      "outputs": [],
      "source": [
        "class RotateEuroSAT(Dataset):\n",
        "    \"\"\"\n",
        "    Initialize a rotated EuroSAT dataset.\n",
        "\n",
        "    This dataset takes an existing EuroSAT dataset and applies random rotations (90°, 180°, 270°, or 360°)\n",
        "    to the images, and splits them based on the provided class distribution (shares).\n",
        "\n",
        "    :param original_data: The original EuroSAT dataset.\n",
        "    :param length: The desired length of the new dataset (i.e., total number of images after rotation).\n",
        "    :param shares: The distribution shares for each class. The list must sum to 1, and its length must match\n",
        "                    the number of classes in the original dataset.\n",
        "    :param device: The device (CPU or GPU) to move the images to. Default is None (images will stay on the CPU).\n",
        "    :param seed: The random seed for reproducibility. Default is 42.\n",
        "    \"\"\"\n",
        "    def __init__(self,\n",
        "                 original_data: Dataset,\n",
        "                 length: int,\n",
        "                 shares: list,\n",
        "                 device=None,\n",
        "                 seed=42):\n",
        "        self.original_data = original_data\n",
        "        self.length = length\n",
        "        assert sum(shares) == 1, \"Shares must sum to 1\"\n",
        "        assert len(shares) == len(original_data.classes), \"Shares must match number of classes\"\n",
        "        self.shares = shares\n",
        "        self.seed = seed\n",
        "        self.device = device\n",
        "\n",
        "        self.transform = transforms.Compose([\n",
        "            transforms.ToTensor(),\n",
        "        ])\n",
        "\n",
        "        self.dataset = self._create_rotated_dataset()\n",
        "\n",
        "    def __len__(self):\n",
        "        \"\"\"\n",
        "        Returns the length of the rotated dataset.\n",
        "\n",
        "        :return: The length of the dataset (i.e., the number of images in the rotated dataset).\n",
        "        :rtype: int\n",
        "        \"\"\"\n",
        "        return self.length\n",
        "\n",
        "    def __getitem__(self, idx):\n",
        "        \"\"\"\n",
        "        Get an item (rotated image and its label) from the dataset.\n",
        "\n",
        "        :param idx: The index of the item to fetch from the dataset.\n",
        "        :type idx: int\n",
        "        :return: A tuple of the rotated image (tensor) and the label.\n",
        "        :rtype: tuple (torch.Tensor, int)\n",
        "        \"\"\"\n",
        "        picture, label = self.dataset[idx]\n",
        "\n",
        "        # Apply transformation to tensor\n",
        "        picture = self.transform(picture)\n",
        "\n",
        "        # Optionally move the tensor to the specified device (CPU/GPU)\n",
        "        if self.device is not None:\n",
        "            picture = picture.to(self.device)\n",
        "\n",
        "        return picture, label\n",
        "\n",
        "    def _create_rotated_dataset(self):\n",
        "        \"\"\"\n",
        "        Create a dataset with rotated images based on the given shares for each class.\n",
        "\n",
        "        This method rotates images from the original dataset randomly by one of the following angles:\n",
        "        90°, 180°, 270°, or 360°.\n",
        "\n",
        "        :return: A list of rotated images and their corresponding labels.\n",
        "        :rtype: list of tuple (PIL.Image, int)\n",
        "        \"\"\"\n",
        "        random.seed(self.seed)\n",
        "        rotated_dataset = []\n",
        "\n",
        "        # Set a start index\n",
        "        start_idx = 0\n",
        "\n",
        "        # Create list of the number of each class\n",
        "        labels = [item[1] for item in self.original_data]\n",
        "        label_counts_lst = list(Counter(labels).values())\n",
        "\n",
        "        for class_idx, class_num in enumerate(label_counts_lst):\n",
        "            # Calculate the number of images for this class based on the share\n",
        "            class_share = self.shares[class_idx]\n",
        "            num_class_images = int(class_share * self.length)\n",
        "            class_images = [i for i in range(start_idx, start_idx + class_num) if self.original_data[i][1] == class_idx]\n",
        "\n",
        "            # Rotate images\n",
        "            for img_idx in class_images:\n",
        "                image, label = self.original_data[img_idx]\n",
        "\n",
        "                # Rotate the image by one of the allowed angles (90, 180, 270, 360)\n",
        "                rotation_angle = random.choice([90, 180, 270, 360])\n",
        "                rotated_image = image.rotate(rotation_angle)\n",
        "\n",
        "                # Add rotated image and label to the new dataset\n",
        "                rotated_dataset.append((rotated_image, label))\n",
        "\n",
        "            start_idx += class_num\n",
        "\n",
        "        return rotated_dataset\n",
        "\n",
        "\n"
      ]
    },
    {
      "cell_type": "code",
      "execution_count": 6,
      "metadata": {
        "id": "jPEhmWRhMpmM"
      },
      "outputs": [],
      "source": [
        "rotated_data = RotateEuroSAT(data,\n",
        "                             length=10**4,\n",
        "                             shares=[1 / len(data.classes) for _ in data.classes],\n",
        "                             device=device,\n",
        "                             seed=42,)\n",
        "\n",
        "train_data, test_data = random_split(rotated_data, [0.8, 0.2])"
      ]
    },
    {
      "cell_type": "markdown",
      "metadata": {
        "id": "RuDwG0K5hN8K"
      },
      "source": [
        "## Task 2: Implement a max pooling class and a CNN model(15 pt)\n",
        "Implement a classification model to predict the label of the faces in the dataset. You are free to experiment with the network architecture. However your model **must** contain:\n",
        "- At least one max pooling layer, implemented with `MyMaxPool`,\n",
        "- Convolutional, linear, and pooling layers only,\n",
        "- At least 3 convolutional layers, with at least two different kernel sizes,\n",
        "- A final output layer that is customizable to the number of classes that we want to predict.\n",
        "\n",
        "#### Briefly explain why you chose the particular architecture you implemented (around 2-3 sentences).\n"
      ]
    },
    {
      "cell_type": "code",
      "execution_count": 7,
      "metadata": {
        "id": "VVHQhPndvqKu"
      },
      "outputs": [],
      "source": [
        "import torch\n",
        "import torch.nn as nn\n",
        "\n",
        "class MyMaxPool(nn.Module):\n",
        "    def __init__(self, kernel_size=2, stride=2):\n",
        "        super(MyMaxPool, self).__init__()\n",
        "        self.kernel_size = kernel_size\n",
        "        self.stride = stride\n",
        "\n",
        "    def forward(self,x):\n",
        "        return nn.functional.max_pool2d(x,self.kernel_size, self.stride)\n",
        "\n",
        "\n",
        "\n",
        "class MyCNNModel(nn.Module):\n",
        "    def __init__(self, num_classes: int = 10):\n",
        "        \"\"\"\n",
        "        Initialize a CNN model with lazy layers that infer input dimensions\n",
        "        automatically.\n",
        "\n",
        "        Here, we use Lazy convolution structure for avoiding input dimensional problem.\n",
        "        Kernel sizes are different (two for 3x3, one for 5x5)\n",
        "\n",
        "        :params: num_classes (int): The number of output classes.\n",
        "        \"\"\"\n",
        "        super(MyCNNModel, self).__init__()\n",
        "\n",
        "        # First Lazy Convolutional Layer (input channels will be inferred)\n",
        "        self.conv1 = nn.LazyConv2d(out_channels=16, kernel_size=3, stride=1, padding=1)\n",
        "\n",
        "        # Second Lazy Convolutional Layer (input channels will be inferred)\n",
        "        self.conv2 = nn.LazyConv2d(out_channels=32, kernel_size=5, stride=1, padding=2)\n",
        "\n",
        "        # Third Lazy Convolutional Layer (input channels will be inferred)\n",
        "        self.conv3 = nn.LazyConv2d(out_channels=64, kernel_size=3, stride=1, padding=1)\n",
        "\n",
        "        # Max Pooling Layer\n",
        "        self.pool = MyMaxPool(kernel_size=2, stride=2)\n",
        "\n",
        "        # Fully connected layer will be created lazily (input size inferred)\n",
        "        self.fc1 = nn.LazyLinear(out_features=64)  # Output will be inferred during the first forward pass\n",
        "        self.fc2 = nn.Linear(in_features=64, out_features=num_classes)  # The final output layer based on the number of classes\n",
        "\n",
        "        # ReLU activation function\n",
        "        self.relu = nn.ReLU()\n",
        "\n",
        "    def forward(self, x):\n",
        "        # Forward pass through convolutional layers with ReLU activation and pooling\n",
        "        x = self.relu(self.conv1(x))  # First conv layer\n",
        "        x = self.pool(x)  # Pooling\n",
        "\n",
        "        x = self.relu(self.conv2(x))  # Second conv layer\n",
        "        x = self.pool(x)  # Pooling\n",
        "\n",
        "        x = self.relu(self.conv3(x))  # Third conv layer\n",
        "        x = self.pool(x)  # Pooling\n",
        "\n",
        "        # Flatten the output before passing to fully connected layers\n",
        "        x = x.flatten(start_dim=1)\n",
        "\n",
        "        # Fully connected layers with ReLU activation\n",
        "        x = self.relu(self.fc1(x))\n",
        "        x = self.fc2(x)  # Final output layer\n",
        "\n",
        "        return x"
      ]
    },
    {
      "cell_type": "code",
      "execution_count": 8,
      "metadata": {
        "id": "7ixZsNMdSqMc"
      },
      "outputs": [],
      "source": [
        "train_x, train_y = train_data[0]"
      ]
    },
    {
      "cell_type": "code",
      "execution_count": 9,
      "metadata": {
        "colab": {
          "base_uri": "https://localhost:8080/"
        },
        "id": "oOVl0a2kHupx",
        "outputId": "ec5ab818-fae3-4aaf-80ca-3fa1a5db2e7f"
      },
      "outputs": [
        {
          "output_type": "stream",
          "name": "stdout",
          "text": [
            " Model test for correctness\n",
            "Input shape: torch.Size([3, 64, 64])\n",
            "Output shape: torch.Size([64, 10])\n"
          ]
        }
      ],
      "source": [
        "#print one iteration of your model to test its correctness\n",
        "\n",
        "my_model = MyCNNModel(num_classes=10).to(device)  # 10 classes for EUROSET database\n",
        "output = my_model(train_x)\n",
        "print(\" Model test for correctness\")\n",
        "print(\"Input shape:\", train_x.shape)\n",
        "print(\"Output shape:\", output.shape)\n",
        "\n"
      ]
    },
    {
      "cell_type": "markdown",
      "metadata": {
        "id": "No6lasumGTkQ"
      },
      "source": [
        "## Training\n",
        "\n",
        "We define a `Trainer` function to train our model that returns avg loss and avg accuracy per epoch. We set the configuration of the trainer is set in the `cfg` dictionary. Use the trainer to train your model and make sure to print and plot avg loss and accuracy using the in-built commands."
      ]
    },
    {
      "cell_type": "code",
      "execution_count": 22,
      "metadata": {
        "id": "ZsUHs5doTPD0"
      },
      "outputs": [],
      "source": [
        "import os, datetime, random\n",
        "import numpy as np\n",
        "import torch\n",
        "import torch.nn as nn\n",
        "import torch.optim as optim\n",
        "from torch.utils.data import DataLoader\n",
        "from torch.utils.tensorboard import SummaryWriter\n",
        "from tqdm.auto import tqdm\n",
        "\n",
        "cfg = {\n",
        "    'batch_size': 64,\n",
        "    'criterion': 'CrossEntropyLoss', #change to 'nn.NLLLoss' if you are applying a softmax in the last layer of your model\n",
        "    'epochs': 15,\n",
        "    'learning_rate': 0.001,\n",
        "    'optimizer':'Adam',\n",
        "    'seed':42,\n",
        "\n",
        "}\n",
        "\n",
        "class Trainer:\n",
        "    \"\"\"\n",
        "    Trainer class for training, evaluating, and logging the model's performance.\n",
        "    \"\"\"\n",
        "\n",
        "    def __init__(self,\n",
        "                 model: torch.nn.Sequential,\n",
        "                 cfg:dict,\n",
        "                 device = None,\n",
        "                 ):\n",
        "        \"\"\"\n",
        "        Initialize.\n",
        "\n",
        "        :param model: The model to be trained.\n",
        "        :param cfg: A dictionary containing hyperparameters such as batch size, optimizer, etc.\n",
        "        :param device: The device (CPU or GPU) on which the model will be trained. Defaults to None.\n",
        "        \"\"\"\n",
        "        self.model = model\n",
        "        self.cfg = cfg\n",
        "        self.device = device or torch.device(\"cuda\" if torch.cuda.is_available() else \"cpu\")\n",
        "        self.model.to(self.device)  # Move the model to the specified device\n",
        "\n",
        "        # lists to store loss and accuracy for plotting\n",
        "        self.all_avg_acc=[]\n",
        "        self.all_avg_loss=[]\n",
        "\n",
        "    def torch_train(self, data, shuffle=False):\n",
        "        \"\"\"\n",
        "        Train model\n",
        "\n",
        "        :param data: train data\n",
        "        :param shuffle: boolean whether shuffle or not.\n",
        "        :return: trained model\n",
        "        \"\"\"\n",
        "    # Get the loss function (criterion) based on the provided config\n",
        "        criterion = getattr(nn, self.cfg['criterion'])()  # CrossEntropyLoss, etc.\n",
        "\n",
        "        # Initialize the optimizer based on the provided config\n",
        "        optimizer = getattr(optim, self.cfg['optimizer'])(\n",
        "            self.model.parameters(), lr=self.cfg['learning_rate']\n",
        "        )\n",
        "\n",
        "        # Set the model to training mode\n",
        "        self.model.train()\n",
        "\n",
        "        # Create DataLoader for the training data\n",
        "        dataloader = DataLoader(data,\n",
        "                                batch_size=self.cfg['batch_size'],\n",
        "                                shuffle=shuffle)\n",
        "\n",
        "        for epoch in range(self.cfg['epochs']):\n",
        "          print(f\"Epoch {epoch+1}/{self.cfg['epochs']}\")\n",
        "\n",
        "          # initialize running_loss, correct_preds, and total_preds\n",
        "          running_loss = 0\n",
        "          correct_preds = 0\n",
        "          total_preds = 0\n",
        "\n",
        "          for x, y in dataloader:  # tqdm is used to display a progress bar\n",
        "            x = x.to(self.device)  # move input data to the device (GPU/CPU)\n",
        "            y = y.to(self.device)  # move target labels to the device (GPU/CPU)\n",
        "\n",
        "\n",
        "            # zero the gradients before the forward pass\n",
        "            optimizer.zero_grad()\n",
        "\n",
        "            # forward pass: get model predictions\n",
        "            pred = self.model(x)\n",
        "\n",
        "            # calculate the loss\n",
        "            loss = criterion(pred.squeeze(-1),y.long())\n",
        "\n",
        "            # backward pass: calculate gradients\n",
        "            loss.backward()\n",
        "\n",
        "            # update model parameters based on gradients\n",
        "            optimizer.step()\n",
        "\n",
        "            # update running loss\n",
        "            running_loss += loss.item() * x.size(0)\n",
        "\n",
        "            # calculate accuracy: compare predicted and true labels\n",
        "            _, predicted = torch.max(pred, 1)\n",
        "            correct_preds += (predicted == y).sum().item()\n",
        "            total_preds += y.size(0)\n",
        "\n",
        "          # calculate average loss and accuracy for this epoch\n",
        "          avg_loss = running_loss / total_preds\n",
        "          avg_acc = correct_preds / total_preds\n",
        "          self.all_avg_acc.append(avg_acc)\n",
        "          self.all_avg_loss.append(avg_loss)\n",
        "\n",
        "        return self.model\n",
        "\n",
        "    def final_avg_train_metric(self):\n",
        "        \"\"\"\n",
        "        Get a best average train metric\n",
        "        \"\"\"\n",
        "        return self.all_avg_acc[-1], self.all_avg_loss[-1]\n",
        "\n",
        "    def plot_training_metric(self):\n",
        "        \"\"\"\n",
        "        Plot the training loss and accuracy per epoch.\n",
        "        \"\"\"\n",
        "        plt.figure(figsize=(12, 5))\n",
        "\n",
        "        # Plot loss\n",
        "        plt.subplot(1, 2, 1)\n",
        "        plt.plot(self.all_avg_loss, label='Train Loss')\n",
        "        plt.xlabel('Epoch')\n",
        "        plt.ylabel('Loss')\n",
        "        plt.title('Training Loss')\n",
        "\n",
        "        # Plot accuracy\n",
        "        plt.subplot(1, 2, 2)\n",
        "        plt.plot(self.all_avg_acc, label='Train Accuracy')\n",
        "        plt.xlabel('Epoch')\n",
        "        plt.ylabel('Accuracy')\n",
        "        plt.title('Training Accuracy')\n",
        "\n",
        "        plt.show()\n",
        "\n",
        "    def evalute_test(self, model, test_data):\n",
        "        \"\"\"\n",
        "        evalute model with test data\n",
        "\n",
        "        :param model: trained model\n",
        "        :param test_data: test data\n",
        "        :return: avg accuracy\n",
        "        \"\"\"\n",
        "        # create DataLoader for the test data\n",
        "        dataloader = DataLoader(test_data,\n",
        "                                batch_size=self.cfg['batch_size'],\n",
        "                                shuffle=False)\n",
        "        # get a batch of test data\n",
        "        x_test, y_test = next(iter(dataloader))\n",
        "        x_test = x_test.to(self.device)\n",
        "        y_test = y_test.to(self.device)\n",
        "\n",
        "        # get model predictions\n",
        "        pred = model(x_test)\n",
        "\n",
        "        # get the predicted class with the highest probability\n",
        "        y_pred = pred.argmax(dim=-1)\n",
        "\n",
        "        # calculate the average accuracy\n",
        "        avg_acc = (y_pred == y_test).float().mean().item()\n",
        "\n",
        "        return avg_acc\n",
        "\n",
        "\n",
        "\n"
      ]
    },
    {
      "cell_type": "code",
      "source": [
        "# Assuming `train_data` and `val_data` are already defined and are instances of DataLoader\n",
        "my_model = MyCNNModel(num_classes=10).to(device)\n",
        "trainer = Trainer(model=my_model, cfg=cfg, device=device)\n",
        "train_model = trainer.torch_train(train_data)"
      ],
      "metadata": {
        "colab": {
          "base_uri": "https://localhost:8080/"
        },
        "id": "TpSUttH4xsdx",
        "outputId": "51791bca-f1e7-402a-a4e2-44dd2fb07598"
      },
      "execution_count": 23,
      "outputs": [
        {
          "output_type": "stream",
          "name": "stdout",
          "text": [
            "Epoch 1/15\n",
            "Epoch 2/15\n",
            "Epoch 3/15\n",
            "Epoch 4/15\n",
            "Epoch 5/15\n",
            "Epoch 6/15\n",
            "Epoch 7/15\n",
            "Epoch 8/15\n",
            "Epoch 9/15\n",
            "Epoch 10/15\n",
            "Epoch 11/15\n",
            "Epoch 12/15\n",
            "Epoch 13/15\n",
            "Epoch 14/15\n",
            "Epoch 15/15\n"
          ]
        }
      ]
    },
    {
      "cell_type": "code",
      "execution_count": 24,
      "metadata": {
        "colab": {
          "base_uri": "https://localhost:8080/",
          "height": 487
        },
        "id": "m5_UTtKlpKhq",
        "outputId": "4cc2f7a0-3347-4950-ac07-844d4ac85d93"
      },
      "outputs": [
        {
          "output_type": "display_data",
          "data": {
            "text/plain": [
              "<Figure size 1200x500 with 2 Axes>"
            ],
            "image/png": "[encoded data removed]"
          },
          "metadata": {}
        }
      ],
      "source": [
        "trainer.plot_training_metric()"
      ]
    },
    {
      "cell_type": "code",
      "execution_count": 25,
      "metadata": {
        "colab": {
          "base_uri": "https://localhost:8080/"
        },
        "id": "i3kAZwl5qn6e",
        "outputId": "44f756c9-87b6-4fb0-bf40-99d305261725"
      },
      "outputs": [
        {
          "output_type": "stream",
          "name": "stdout",
          "text": [
            "Test Accurcay: 0.921875\n"
          ]
        }
      ],
      "source": [
        "print(f\"Test Accurcay: {trainer.evalute_test(train_model, test_data)}\")"
      ]
    },
    {
      "cell_type": "markdown",
      "metadata": {
        "id": "_AvPUd76zVOk"
      },
      "source": [
        "## Task 3: Tune your training hyperparameters (optional, 10 pt)\n",
        "\n",
        "Implement a method <code>grid_search</code>, which looks for the best possible learning rates and training batch sizes for your model <code>MyCNNModel</code> and returns the best possible model, the corresponding training configuration, and the final training avg losses and accuracies (as numbers)."
      ]
    },
    {
      "cell_type": "code",
      "source": [
        "def grid_search(train_dataset, cfg, learning_rates=[10**-1, 10**-2, 10**-3], batch_sizes=[2**5, 2**6, 2**7]):\n",
        "    \"\"\"\n",
        "    Grid Search for hyperparameter tuning.\n",
        "\n",
        "    :param train_dataset: The training dataset.\n",
        "    :param cfg: The configuration dictionary.\n",
        "    :param learning_rates: A list of learning rates to try.\n",
        "    :param batch_sizes: A list of batch sizes to try.\n",
        "    :return: The best model, the best configuration, the best avg loss, and the best avg accuracy.\n",
        "    \"\"\"\n",
        "\n",
        "    model_lists = []\n",
        "    for lr in learning_rates:\n",
        "        for batch_size in batch_sizes:\n",
        "            cfg['learning_rate'] = lr\n",
        "            cfg['batch_size'] = batch_size\n",
        "            trainer = Trainer(model=MyCNNModel(num_classes=10).to(device), cfg=cfg, device=device)\n",
        "            train_model = trainer.torch_train(train_dataset)\n",
        "\n",
        "            avg_loss, avg_acc = trainer.final_avg_train_metric()\n",
        "\n",
        "            # append the model, config, and metrics to the model lists\n",
        "            model_lists.append((train_model, cfg, avg_loss, avg_acc))\n",
        "\n",
        "    # select the tuple with the lowest avg_loss\n",
        "    best_model_tuple = min(model_lists, key=lambda x:x[2])\n",
        "\n",
        "    # unpack the best model tuple\n",
        "    best_model, best_cfg, best_avg_loss, best_avg_acc = best_model_tuple\n",
        "\n",
        "    return best_model, best_cfg, best_avg_loss, best_avg_acc\n",
        "\n",
        "# change epoch of config file for reducing a time\n",
        "cfg['epochs'] = 5\n",
        "\n",
        "best_model, best_cfg, best_avg_loss, best_avg_acc = grid_search(train_data, cfg, learning_rates=[10**-1, 10**-2, 10**-3], batch_sizes=[2**5, 2**6, 2**7])\n",
        "print(f\"Best model achieves {best_avg_loss:.2f} loss and {best_avg_acc:.1%} accuracy\")"
      ],
      "metadata": {
        "id": "dZCnNNmG0IK0"
      },
      "execution_count": null,
      "outputs": []
    },
    {
      "cell_type": "markdown",
      "metadata": {
        "id": "CLLCQpv14Gsx"
      },
      "source": [
        "## Task 3: Load and fine-tune a pre-trained model (10 pt)\n",
        "\n",
        "<ul>\n",
        "  <li>Load and train a pre-trained model for classification problems, such as those made available in <a href=\"https://huggingface.co/docs/timm\">Hugging Face's timm library</a>. </li>\n",
        "  <li> Make sure to modify the output layer to be compatible with the number of classes. </li>\n",
        "  <li>Print a summary of your results.</li>\n",
        "  <li>Briefly explain why you chose the particular architecture you did (around 2-3 sentences).</li>\n",
        "  </ul>\n",
        "  \n",
        "<b>Note</b>: in case you run into computing-related (e.g. memory) issues, consider choosing another model."
      ]
    },
    {
      "cell_type": "code",
      "execution_count": null,
      "metadata": {
        "id": "KKtm7Mz9AJxe"
      },
      "outputs": [],
      "source": [
        "import torch\n",
        "import torch.nn as nn\n",
        "import torch.optim as optim\n",
        "from torch.utils.data import DataLoader, random_split, Subset\n",
        "from torchvision import transforms, models\n",
        "from torchvision.datasets import EuroSAT\n",
        "import matplotlib.pyplot as plt\n",
        "import numpy as np\n",
        "import os\n",
        "import time\n",
        "from tqdm import tqdm\n",
        "import warnings\n",
        "warnings.filterwarnings('ignore')\n"
      ]
    },
    {
      "cell_type": "code",
      "execution_count": null,
      "metadata": {
        "id": "ekh-FXzYBRcB"
      },
      "outputs": [],
      "source": [
        "# Check if CUDA is available and set device\n",
        "device = torch.device('cuda' if torch.cuda.is_available() else 'cpu')\n",
        "print(f\"Using device: {device}\")\n",
        "if torch.cuda.is_available():\n",
        "    print(f\"GPU: {torch.cuda.get_device_name(0)}\")\n",
        "\n",
        "# Set random seeds for reproducibility\n",
        "def set_seed(seed=42):\n",
        "    \"\"\"Set random seeds for reproducible results\"\"\"\n",
        "    torch.manual_seed(seed)\n",
        "    torch.cuda.manual_seed_all(seed)\n",
        "    np.random.seed(seed)\n",
        "    torch.backends.cudnn.deterministic = True\n",
        "    torch.backends.cudnn.benchmark = False\n",
        "\n",
        "set_seed(42)\n"
      ]
    },
    {
      "cell_type": "code",
      "execution_count": null,
      "metadata": {
        "id": "ifSWR_oGBpqT"
      },
      "outputs": [],
      "source": [
        "IMAGENET_MEAN = [0.485, 0.456, 0.406]\n",
        "IMAGENET_STD = [0.229, 0.224, 0.225]\n",
        "\n",
        "def create_data_transforms():\n",
        "    \"\"\"\n",
        "    Create data transformation pipelines for training and validation.\n",
        "    \"\"\"\n",
        "\n",
        "    train_transform = transforms.Compose([\n",
        "        transforms.RandomResizedCrop(224, scale=(0.8, 1.0)),\n",
        "        transforms.RandomHorizontalFlip(p=0.5),\n",
        "        transforms.RandomVerticalFlip(p=0.3),\n",
        "        transforms.RandomRotation(degrees=45),\n",
        "        transforms.ColorJitter(\n",
        "            brightness=0.3,\n",
        "            contrast=0.3,\n",
        "            saturation=0.3,\n",
        "            hue=0.1\n",
        "        ),\n",
        "        transforms.ToTensor(),\n",
        "        transforms.Normalize(mean=IMAGENET_MEAN, std=IMAGENET_STD),\n",
        "        transforms.RandomErasing(p=0.2, scale=(0.02, 0.33))\n",
        "    ])\n",
        "\n",
        "    val_transform = transforms.Compose([\n",
        "        transforms.Resize(256),\n",
        "        transforms.CenterCrop(224),\n",
        "        transforms.ToTensor(),\n",
        "        transforms.Normalize(mean=IMAGENET_MEAN, std=IMAGENET_STD)\n",
        "    ])\n",
        "\n",
        "    return train_transform, val_transform\n"
      ]
    },
    {
      "cell_type": "code",
      "execution_count": null,
      "metadata": {
        "id": "Qbf6tvA_Bq1k"
      },
      "outputs": [],
      "source": [
        "# Load your existing data using the code you already have\n",
        "# This is the code you provided earlier\n",
        "from torchvision.datasets import EuroSAT\n",
        "data = EuroSAT(root=os.getcwd(), download=True)\n",
        "print(f\"The dataset has {len(data)} images\")\n",
        "\n",
        "# Get number of classes and class names\n",
        "num_classes = len(data.classes)\n",
        "class_names = data.classes\n",
        "print(f\"Number of classes: {num_classes}\")\n",
        "print(f\"Classes: {', '.join(class_names)}\")\n",
        "\n",
        "# Create train/val/test split\n",
        "total_size = len(data)\n",
        "train_size = int(0.7 * total_size)\n",
        "val_size = int(0.15 * total_size)\n",
        "test_size = total_size - train_size - val_size\n",
        "\n",
        "# Random split\n",
        "train_dataset, val_dataset, test_dataset = random_split(\n",
        "    data, [train_size, val_size, test_size],\n",
        "    generator=torch.Generator().manual_seed(42)\n",
        ")\n",
        "\n",
        "print(f\"\\nDataset split:\")\n",
        "print(f\"  Training:   {len(train_dataset)} samples\")\n",
        "print(f\"  Validation: {len(val_dataset)} samples\")\n",
        "print(f\"  Test:       {len(test_dataset)} samples\")\n",
        "\n",
        "# Apply transforms\n",
        "train_transform, val_transform = create_data_transforms()\n",
        "\n",
        "# Create new datasets with transforms\n",
        "train_data_transformed = EuroSAT(root=os.getcwd(), download=False, transform=train_transform)\n",
        "val_data_transformed = EuroSAT(root=os.getcwd(), download=False, transform=val_transform)\n",
        "test_data_transformed = EuroSAT(root=os.getcwd(), download=False, transform=val_transform)\n",
        "\n",
        "# Apply the same indices from the split\n",
        "train_dataset = Subset(train_data_transformed, train_dataset.indices)\n",
        "val_dataset = Subset(val_data_transformed, val_dataset.indices)\n",
        "test_dataset = Subset(test_data_transformed, test_dataset.indices)"
      ]
    },
    {
      "cell_type": "code",
      "execution_count": null,
      "metadata": {
        "id": "4C3hzGYZCBFQ"
      },
      "outputs": [],
      "source": [
        "\n",
        "batch_size = 32 if torch.cuda.is_available() else 16\n",
        "num_workers = min(4, os.cpu_count() // 2) if os.cpu_count() else 0\n",
        "\n",
        "train_loader = DataLoader(\n",
        "    train_dataset,\n",
        "    batch_size=batch_size,\n",
        "    shuffle=True,\n",
        "    num_workers=num_workers,\n",
        "    pin_memory=torch.cuda.is_available()\n",
        ")\n",
        "\n",
        "val_loader = DataLoader(\n",
        "    val_dataset,\n",
        "    batch_size=batch_size,\n",
        "    shuffle=False,\n",
        "    num_workers=num_workers,\n",
        "    pin_memory=torch.cuda.is_available()\n",
        ")\n",
        "\n",
        "test_loader = DataLoader(\n",
        "    test_dataset,\n",
        "    batch_size=batch_size,\n",
        "    shuffle=False,\n",
        "    num_workers=num_workers,\n",
        "    pin_memory=torch.cuda.is_available()\n",
        ")\n",
        "\n",
        "print(f\"\\nDataLoaders created with batch size: {batch_size}\")\n"
      ]
    },
    {
      "cell_type": "code",
      "execution_count": null,
      "metadata": {
        "id": "C0g2BkdeCGOJ"
      },
      "outputs": [],
      "source": [
        "\n",
        "def create_resnet50_model(num_classes, dropout_rate=0.5):\n",
        "    \"\"\"\n",
        "    Create a ResNet50 model with a custom classifier head.\n",
        "    \"\"\"\n",
        "\n",
        "    print(f\"\\nCreating ResNet50 model...\")\n",
        "\n",
        "    # Load pretrained ResNet50\n",
        "    model = models.resnet50(pretrained=True)\n",
        "    print(\"✓ Loaded pretrained ImageNet weights\")\n",
        "\n",
        "    # Get the number of features from the last layer\n",
        "    num_features = model.fc.in_features  # Should be 2048 for ResNet50\n",
        "\n",
        "    # Replace the final fully connected layer with custom classifier\n",
        "    model.fc = nn.Sequential(\n",
        "        nn.BatchNorm1d(num_features),\n",
        "        nn.Dropout(dropout_rate),\n",
        "        nn.Linear(num_features, 512),\n",
        "        nn.ReLU(inplace=True),\n",
        "        nn.BatchNorm1d(512),\n",
        "        nn.Dropout(dropout_rate * 0.7),\n",
        "        nn.Linear(512, 256),\n",
        "        nn.ReLU(inplace=True),\n",
        "        nn.BatchNorm1d(256),\n",
        "        nn.Dropout(dropout_rate * 0.5),\n",
        "        nn.Linear(256, num_classes)\n",
        "    )\n",
        "\n",
        "    print(f\"✓ Replaced classifier head for {num_classes} classes\")\n",
        "\n",
        "    # Initialize the new layers\n",
        "    for m in model.fc.modules():\n",
        "        if isinstance(m, nn.Linear):\n",
        "            nn.init.kaiming_normal_(m.weight, mode='fan_out', nonlinearity='relu')\n",
        "            if m.bias is not None:\n",
        "                nn.init.constant_(m.bias, 0)\n",
        "        elif isinstance(m, nn.BatchNorm1d):\n",
        "            nn.init.constant_(m.weight, 1)\n",
        "            nn.init.constant_(m.bias, 0)\n",
        "\n",
        "    return model\n",
        "\n",
        "# Create the model\n",
        "model = create_resnet50_model(num_classes=num_classes, dropout_rate=0.5)"
      ]
    },
    {
      "cell_type": "code",
      "execution_count": null,
      "metadata": {
        "id": "GGVDTgnYCReN"
      },
      "outputs": [],
      "source": [
        "\n",
        "def train_one_epoch(model, train_loader, criterion, optimizer, device):\n",
        "    \"\"\"Train for one epoch\"\"\"\n",
        "    model.train()\n",
        "    running_loss = 0.0\n",
        "    correct = 0\n",
        "    total = 0\n",
        "\n",
        "    pbar = tqdm(train_loader, desc='Training')\n",
        "    for inputs, labels in pbar:\n",
        "        inputs, labels = inputs.to(device), labels.to(device)\n",
        "\n",
        "        # Forward pass\n",
        "        optimizer.zero_grad()\n",
        "        outputs = model(inputs)\n",
        "        loss = criterion(outputs, labels)\n",
        "\n",
        "        # Backward pass\n",
        "        loss.backward()\n",
        "        optimizer.step()\n",
        "\n",
        "        # Statistics\n",
        "        running_loss += loss.item()\n",
        "        _, predicted = torch.max(outputs.data, 1)\n",
        "        total += labels.size(0)\n",
        "        correct += (predicted == labels).sum().item()\n",
        "\n",
        "        # Update progress bar\n",
        "        pbar.set_postfix({\n",
        "            'loss': running_loss / (pbar.n + 1),\n",
        "            'acc': 100. * correct / total\n",
        "        })\n",
        "\n",
        "    epoch_loss = running_loss / len(train_loader)\n",
        "    epoch_acc = 100. * correct / total\n",
        "\n",
        "    return epoch_loss, epoch_acc\n",
        "\n",
        "def validate(model, val_loader, criterion, device):\n",
        "    \"\"\"Validate the model\"\"\"\n",
        "    model.eval()\n",
        "    running_loss = 0.0\n",
        "    correct = 0\n",
        "    total = 0\n",
        "\n",
        "    with torch.no_grad():\n",
        "        pbar = tqdm(val_loader, desc='Validation')\n",
        "        for inputs, labels in pbar:\n",
        "            inputs, labels = inputs.to(device), labels.to(device)\n",
        "\n",
        "            outputs = model(inputs)\n",
        "            loss = criterion(outputs, labels)\n",
        "\n",
        "            running_loss += loss.item()\n",
        "            _, predicted = torch.max(outputs.data, 1)\n",
        "            total += labels.size(0)\n",
        "            correct += (predicted == labels).sum().item()\n",
        "\n",
        "            pbar.set_postfix({\n",
        "                'loss': running_loss / (pbar.n + 1),\n",
        "                'acc': 100. * correct / total\n",
        "            })\n",
        "\n",
        "    epoch_loss = running_loss / len(val_loader)\n",
        "    epoch_acc = 100. * correct / total\n",
        "\n",
        "    return epoch_loss, epoch_acc\n",
        "\n",
        "def test_accuracy(model, test_loader, device):\n",
        "    \"\"\"Get test accuracy\"\"\"\n",
        "    model.eval()\n",
        "    correct = 0\n",
        "    total = 0\n",
        "\n",
        "    with torch.no_grad():\n",
        "        for inputs, labels in test_loader:\n",
        "            inputs, labels = inputs.to(device), labels.to(device)\n",
        "            outputs = model(inputs)\n",
        "            _, predicted = torch.max(outputs.data, 1)\n",
        "            total += labels.size(0)\n",
        "            correct += (predicted == labels).sum().item()\n",
        "\n",
        "    return 100. * correct / total"
      ]
    },
    {
      "cell_type": "code",
      "execution_count": null,
      "metadata": {
        "id": "1AtwJkg8CTBr"
      },
      "outputs": [],
      "source": [
        "print(\"STAGE 1: FROZEN BACKBONE TRAINING (10 EPOCHS)\")\n",
        "print(\"=\"*60)\n",
        "\n",
        "# Move model to device\n",
        "model = model.to(device)\n",
        "\n",
        "# FREEZE all layers except the classifier (fc)\n",
        "for name, param in model.named_parameters():\n",
        "    if 'fc' not in name:\n",
        "        param.requires_grad = False\n",
        "\n",
        "print(\"✓ Frozen all layers except classifier\")\n",
        "\n",
        "# Count trainable parameters\n",
        "trainable_params = sum(p.numel() for p in model.parameters() if p.requires_grad)\n",
        "total_params = sum(p.numel() for p in model.parameters())\n",
        "print(f\"Trainable parameters: {trainable_params:,} / {total_params:,} ({100*trainable_params/total_params:.1f}%)\")\n",
        "\n",
        "# Setup training\n",
        "criterion = nn.CrossEntropyLoss(label_smoothing=0.1)\n",
        "optimizer = optim.AdamW(\n",
        "    filter(lambda p: p.requires_grad, model.parameters()),\n",
        "    lr=0.001,\n",
        "    weight_decay=1e-4\n",
        ")\n",
        "\n",
        "# Learning rate scheduler\n",
        "scheduler = optim.lr_scheduler.ReduceLROnPlateau(\n",
        "    optimizer, mode='min', factor=0.5, patience=3\n",
        ")\n",
        "\n",
        "# Training history\n",
        "history = {\n",
        "    'train_loss': [],\n",
        "    'train_acc': [],\n",
        "    'val_loss': [],\n",
        "    'val_acc': [],\n",
        "    'test_acc': [],\n",
        "    'lr': []\n",
        "}\n",
        "\n",
        "# Best model tracking\n",
        "best_val_loss = float('inf')\n",
        "best_model_state = None\n",
        "\n",
        "# Train for 10 epochs\n",
        "for epoch in range(10):\n",
        "    print(f\"\\n--- Epoch {epoch+1}/10 ---\")\n",
        "\n",
        "    # Train\n",
        "    train_loss, train_acc = train_one_epoch(model, train_loader, criterion, optimizer, device)\n",
        "\n",
        "    # Validate\n",
        "    val_loss, val_acc = validate(model, val_loader, criterion, device)\n",
        "\n",
        "    # Test\n",
        "    test_acc = test_accuracy(model, test_loader, device)\n",
        "\n",
        "    # Save best model\n",
        "    if val_loss < best_val_loss:\n",
        "        best_val_loss = val_loss\n",
        "        best_model_state = model.state_dict().copy()\n",
        "        print(\"  ⭐ New best model saved!\")\n",
        "\n",
        "    # Update scheduler\n",
        "    scheduler.step(val_loss)\n",
        "    current_lr = optimizer.param_groups[0]['lr']\n",
        "\n",
        "    # Save history\n",
        "    history['train_loss'].append(train_loss)\n",
        "    history['train_acc'].append(train_acc)\n",
        "    history['val_loss'].append(val_loss)\n",
        "    history['val_acc'].append(val_acc)\n",
        "    history['test_acc'].append(test_acc)\n",
        "    history['lr'].append(current_lr)\n",
        "\n",
        "    # Print summary\n",
        "    print(f\"  Train Loss: {train_loss:.4f}, Train Acc: {train_acc:.2f}%\")\n",
        "    print(f\"  Val Loss:   {val_loss:.4f}, Val Acc:   {val_acc:.2f}%\")\n",
        "    print(f\"  Test Acc:   {test_acc:.2f}%\")\n",
        "    print(f\"  Learning Rate: {current_lr:.6f}\")\n",
        "\n",
        "# Load best model\n",
        "if best_model_state is not None:\n",
        "    model.load_state_dict(best_model_state)\n",
        "    print(\"\\n✓ Loaded best model based on validation loss\")\n",
        "\n",
        "# Final test accuracy\n",
        "final_test_acc = test_accuracy(model, test_loader, device)\n",
        "print(f\"\\n📊 Final Test Accuracy: {final_test_acc:.2f}%\")\n"
      ]
    },
    {
      "cell_type": "code",
      "execution_count": null,
      "metadata": {
        "id": "CqOzSuvvCmdC"
      },
      "outputs": [],
      "source": [
        "checkpoint = {\n",
        "    'model_state_dict': model.state_dict(),\n",
        "    'optimizer_state_dict': optimizer.state_dict(),\n",
        "    'epoch': 10,\n",
        "    'train_history': history,\n",
        "    'best_val_loss': best_val_loss,\n",
        "    'final_test_acc': final_test_acc,\n",
        "    'num_classes': num_classes,\n",
        "    'class_names': class_names\n",
        "}\n",
        "\n",
        "checkpoint_path = 'stage1_frozen_backbone_checkpoint.pth'\n",
        "torch.save(checkpoint, checkpoint_path)\n",
        "print(f\"✓ Model checkpoint saved to: {checkpoint_path}\")"
      ]
    },
    {
      "cell_type": "code",
      "execution_count": null,
      "metadata": {
        "id": "GyvnzjmOCsTO"
      },
      "outputs": [],
      "source": [
        "\n",
        "def plot_stage1_results(history):\n",
        "    \"\"\"Plot Stage 1 training results\"\"\"\n",
        "\n",
        "    fig, axes = plt.subplots(1, 3, figsize=(18, 5))\n",
        "\n",
        "    epochs = range(1, len(history['train_loss']) + 1)\n",
        "\n",
        "    # Plot 1: Training Loss vs Epoch\n",
        "    axes[0].plot(epochs, history['train_loss'], 'b-', linewidth=2, marker='o', markersize=4)\n",
        "    axes[0].set_xlabel('Epoch', fontsize=12)\n",
        "    axes[0].set_ylabel('Loss', fontsize=12)\n",
        "    axes[0].set_title('Training Loss vs Epoch (Stage 1)', fontsize=14, fontweight='bold')\n",
        "    axes[0].grid(True, alpha=0.3)\n",
        "    axes[0].set_xticks(range(1, 11))\n",
        "\n",
        "    # Plot 2: Training Accuracy vs Epoch\n",
        "    axes[1].plot(epochs, history['train_acc'], 'g-', linewidth=2, marker='s', markersize=4)\n",
        "    axes[1].set_xlabel('Epoch', fontsize=12)\n",
        "    axes[1].set_ylabel('Accuracy (%)', fontsize=12)\n",
        "    axes[1].set_title('Training Accuracy vs Epoch', fontsize=14, fontweight='bold')\n",
        "    axes[1].grid(True, alpha=0.3)\n",
        "    axes[1].set_xticks(range(1, 11))\n",
        "    axes[1].set_ylim([min(history['train_acc'])*0.95, 100])\n",
        "\n",
        "    # Plot 3: Test Accuracy vs Epoch\n",
        "    axes[2].plot(epochs, history['test_acc'], 'r-', linewidth=2, marker='o', markersize=5)\n",
        "    axes[2].set_xlabel('Epoch', fontsize=12)\n",
        "    axes[2].set_ylabel('Accuracy (%)', fontsize=12)\n",
        "    axes[2].set_title('Test Accuracy vs Epoch', fontsize=14, fontweight='bold')\n",
        "    axes[2].grid(True, alpha=0.3)\n",
        "    axes[2].set_xticks(range(1, 11))\n",
        "    axes[2].set_ylim([min(history['test_acc'])*0.95, max(history['test_acc'])*1.02])\n",
        "\n",
        "    # Annotate best test accuracy\n",
        "    best_test_acc = max(history['test_acc'])\n",
        "    best_epoch = history['test_acc'].index(best_test_acc) + 1\n",
        "    axes[2].annotate(f'Best: {best_test_acc:.2f}%',\n",
        "                    xy=(best_epoch, best_test_acc),\n",
        "                    xytext=(best_epoch+1, best_test_acc-1),\n",
        "                    arrowprops=dict(arrowstyle='->', color='red', alpha=0.7),\n",
        "                    fontsize=10, color='red')\n",
        "\n",
        "    plt.suptitle('Frozen Backbone Training Results', fontsize=16, fontweight='bold', y=1.02)\n",
        "    plt.tight_layout()\n",
        "    plt.show()\n",
        "\n",
        "# Plot the results\n",
        "plot_stage1_results(history)\n"
      ]
    },
    {
      "cell_type": "code",
      "execution_count": null,
      "metadata": {
        "id": "CoQtumJ0C7Hl"
      },
      "outputs": [],
      "source": [
        "print(\"\\n\" + \"=\"*60)\n",
        "print(\"STAGE 1 TRAINING COMPLETE - SUMMARY\")\n",
        "print(\"=\"*60)\n",
        "print(f\"\"\"\n",
        "📊 Training Results:\n",
        "   - Total Epochs: 10\n",
        "   - Final Test Accuracy: {final_test_acc:.2f}%\n",
        "   - Best Test Accuracy: {max(history['test_acc']):.2f}%\n",
        "   - Best Validation Loss: {best_val_loss:.4f}\n",
        "   - Improvement: {history['test_acc'][-1] - history['test_acc'][0]:.2f}%\n",
        "\n",
        "\"\"\")"
      ]
    }
  ],
  "metadata": {
    "accelerator": "GPU",
    "colab": {
      "gpuType": "T4",
      "provenance": []
    },
    "kernelspec": {
      "display_name": "Python 3",
      "name": "python3"
    },
    "language_info": {
      "codemirror_mode": {
        "name": "ipython",
        "version": 3
      },
      "file_extension": ".py",
      "mimetype": "text/x-python",
      "name": "python",
      "nbconvert_exporter": "python",
      "pygments_lexer": "ipython3",
      "version": "3.12.4"
    }
  },
  "nbformat": 4,
  "nbformat_minor": 0
}