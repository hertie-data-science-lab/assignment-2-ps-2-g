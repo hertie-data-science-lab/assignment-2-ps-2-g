{
  "cells": [
    {
      "cell_type": "markdown",
      "metadata": {
        "id": "13i7KQ9t-CV8"
      },
      "source": [
        "# Problem set 2\n",
        "\n",
        "## Team\n",
        "Please write here your names and team number.\n",
        "\n",
        "* Team name:\n",
        "* Team members:\n",
        "\n",
        "## Using Colab with GitHub\n",
        "To utilize GPU support for model training, we highly recommend to open this notebook with Google Colab. Simply, change the domain from 'github.com' to 'githubtocolab.com' and refresh the site to open the notebook in Colab.\n",
        "If you haven't used Colab before with private repositories, make sure to grant Colab access to your private repositories (see screenshot) and after that just try to change the domain again.\n",
        "\n",
        "Finally, you should make sure that you add a GPU to your Colab notebook. You can do so by clicking on `Runtime` →  `Change runtime type` → `Hardware accelerator`  →  `GPU`.\n",
        "\n",
        "## Submission\n",
        "\n",
        "Make sure that you always commit and push the changes you make in Colab back to GitHub. To do so from within a Colab notebook, click `File` → `Save a copy in GitHub`. You will be prompted to add a commit message, and after you click OK, the notebook will be pushed to your repository. Only changes that are visible in your GitHub repository on the main branch will be considered for grading. If you close Colab in your browser without pushing your changes to GitHub or saving them on Google Drive, they will be lost.\n",
        "\n",
        "Make sure that all your work has been pushed to GitHub before the deadline.\n"
      ]
    },
    {
      "cell_type": "markdown",
      "metadata": {
        "id": "8ffVUKx7P6RD"
      },
      "source": [
        "Check that the GPU  enabled in your colab notebook by running the cell below."
      ]
    },
    {
      "cell_type": "code",
      "execution_count": 1,
      "metadata": {
        "id": "GPzhNed7P2i9",
        "colab": {
          "base_uri": "https://localhost:8080/"
        },
        "outputId": "f6317baf-aa3e-4ae4-893f-c3efb19c7cc9"
      },
      "outputs": [
        {
          "output_type": "stream",
          "name": "stdout",
          "text": [
            "Device: cuda:0\n",
            "GPU: Tesla T4\n"
          ]
        }
      ],
      "source": [
        "import torch\n",
        "# Check is GPU is enabled\n",
        "device = torch.device(\"cuda:0\" if torch.cuda.is_available() else \"cpu\")\n",
        "print(\"Device: {}\".format(device))\n",
        "\n",
        "# Get specific GPU model\n",
        "if str(device) == \"cuda:0\":\n",
        "  print(\"GPU: {}\".format(torch.cuda.get_device_name(0)))"
      ]
    },
    {
      "cell_type": "markdown",
      "metadata": {
        "id": "29zJt4eFI25Y"
      },
      "source": [
        "You will be working with the EuroSAT dataset. The dataset contains 8489 pictures of 3 different land coverage types (crop, herbaceous vegetation and river). Running the lines below will download the data and return a random picture from the dataset."
      ]
    },
    {
      "cell_type": "code",
      "execution_count": 8,
      "metadata": {
        "id": "7MgSuuP3Kjx0",
        "colab": {
          "base_uri": "https://localhost:8080/",
          "height": 115
        },
        "outputId": "09a8c51d-35f2-42bf-8e2c-f75e823d0d3f"
      },
      "outputs": [
        {
          "output_type": "stream",
          "name": "stdout",
          "text": [
            "The dataset has 27000 images\n",
            "Picture number 12204 with label: 4\n"
          ]
        },
        {
          "output_type": "execute_result",
          "data": {
            "text/plain": [
              "<PIL.Image.Image image mode=RGB size=64x64>"
            ],
            "image/png": "[encoded data removed]",
            "image/jpeg": "[encoded data removed]"
          },
          "metadata": {},
          "execution_count": 8
        }
      ],
      "source": [
        "from torchvision.datasets import EuroSAT\n",
        "import os\n",
        "import numpy as np\n",
        "\n",
        "data = EuroSAT(root=os.getcwd(), download=True) #downloads the dataset to your current directory\n",
        "print(f\"The dataset has {len(data)} images\")\n",
        "randint = np.random.randint(len(data))\n",
        "\n",
        "pic, tar = data[randint]\n",
        "print(f\"Picture number {randint} with label: {tar}\")\n",
        "pic"
      ]
    },
    {
      "cell_type": "markdown",
      "metadata": {
        "id": "99jkSa_KmrDH"
      },
      "source": [
        "# Task 1: Transform the data (10 pt)\n",
        "\n",
        " Your task is to train a classifier to classify the different land usage types in the dataset. We want to select only the 50 most frequent people in the dataset, all the other people should be mapped to a common class.\n",
        "- Implement the class `rotate` that maps pictures to flipped pictures by 90, 180, 270 or 360°. The class should return an error if you try to rotate the picture by other degrees.\n",
        "- Plot a histogram with the frequencies of each class. Make sure to insert both name and label in the histogram (e.g. `AnnualCrop:0`).\n",
        "- We create a class `RotateEuroSAT` that takes as input the original dataset and returns a new dataset which contains randomly rotated pictures and whose label proportion can be customized.\n",
        "Implement the class method `_create_rotated_dataset` that returns this pictures using the previously implemented `rotate`.\n",
        "- `RotateEuroSAT` should also take care of transforming the pictures to tensors and optionally move the tensor to a GPU device."
      ]
    },
    {
      "cell_type": "code",
      "execution_count": 6,
      "metadata": {
        "id": "43onRqgGmalG",
        "colab": {
          "base_uri": "https://localhost:8080/",
          "height": 820
        },
        "outputId": "de8efc1d-7351-40ec-f04d-3c7358cb1fa0"
      },
      "outputs": [
        {
          "output_type": "error",
          "ename": "TypeError",
          "evalue": "tuple indices must be integers or slices, not str",
          "traceback": [
            "\u001b[0;31m---------------------------------------------------------------------------\u001b[0m",
            "\u001b[0;31mTypeError\u001b[0m                                 Traceback (most recent call last)",
            "\u001b[0;32m/tmp/ipython-input-1319055210.py\u001b[0m in \u001b[0;36m<cell line: 0>\u001b[0;34m()\u001b[0m\n\u001b[1;32m     55\u001b[0m \u001b[0mnew_pic\u001b[0m \u001b[0;34m=\u001b[0m \u001b[0mrotate_picture\u001b[0m\u001b[0;34m(\u001b[0m\u001b[0mpic\u001b[0m\u001b[0;34m,\u001b[0m \u001b[0;36m90\u001b[0m\u001b[0;34m)\u001b[0m \u001b[0;31m# Example of rotating a picture by 90 degrees\u001b[0m\u001b[0;34m\u001b[0m\u001b[0;34m\u001b[0m\u001b[0m\n\u001b[1;32m     56\u001b[0m \u001b[0msame_pic\u001b[0m \u001b[0;34m=\u001b[0m \u001b[0mrotate_picture\u001b[0m\u001b[0;34m(\u001b[0m\u001b[0mpic\u001b[0m\u001b[0;34m,\u001b[0m \u001b[0;36m360\u001b[0m\u001b[0;34m)\u001b[0m \u001b[0;31m# Example of rotating a picture by 360 degrees (should return the same picture)\u001b[0m\u001b[0;34m\u001b[0m\u001b[0;34m\u001b[0m\u001b[0m\n\u001b[0;32m---> 57\u001b[0;31m \u001b[0mfig\u001b[0m\u001b[0;34m,\u001b[0m \u001b[0max\u001b[0m \u001b[0;34m=\u001b[0m \u001b[0mplot_histogram\u001b[0m\u001b[0;34m(\u001b[0m\u001b[0mdata\u001b[0m\u001b[0;34m)\u001b[0m\u001b[0;34m\u001b[0m\u001b[0;34m\u001b[0m\u001b[0m\n\u001b[0m\u001b[1;32m     58\u001b[0m \u001b[0mfig\u001b[0m\u001b[0;34m.\u001b[0m\u001b[0mshow\u001b[0m\u001b[0;34m(\u001b[0m\u001b[0;34m)\u001b[0m\u001b[0;34m\u001b[0m\u001b[0;34m\u001b[0m\u001b[0m\n",
            "\u001b[0;32m/tmp/ipython-input-1319055210.py\u001b[0m in \u001b[0;36mplot_histogram\u001b[0;34m(data)\u001b[0m\n\u001b[1;32m     31\u001b[0m   \u001b[0mfig\u001b[0m\u001b[0;34m,\u001b[0m \u001b[0max\u001b[0m \u001b[0;34m=\u001b[0m \u001b[0mplt\u001b[0m\u001b[0;34m.\u001b[0m\u001b[0msubplots\u001b[0m\u001b[0;34m(\u001b[0m\u001b[0mfigsize\u001b[0m\u001b[0;34m=\u001b[0m\u001b[0;34m(\u001b[0m\u001b[0;36m10\u001b[0m\u001b[0;34m,\u001b[0m \u001b[0;36m6\u001b[0m\u001b[0;34m)\u001b[0m\u001b[0;34m)\u001b[0m\u001b[0;34m\u001b[0m\u001b[0;34m\u001b[0m\u001b[0m\n\u001b[1;32m     32\u001b[0m \u001b[0;34m\u001b[0m\u001b[0m\n\u001b[0;32m---> 33\u001b[0;31m   \u001b[0mlabels\u001b[0m \u001b[0;34m=\u001b[0m \u001b[0;34m[\u001b[0m\u001b[0mitem\u001b[0m\u001b[0;34m[\u001b[0m\u001b[0;34m'label'\u001b[0m\u001b[0;34m]\u001b[0m \u001b[0;32mfor\u001b[0m \u001b[0mitem\u001b[0m \u001b[0;32min\u001b[0m \u001b[0mdata\u001b[0m\u001b[0;34m]\u001b[0m\u001b[0;34m\u001b[0m\u001b[0;34m\u001b[0m\u001b[0m\n\u001b[0m\u001b[1;32m     34\u001b[0m \u001b[0;34m\u001b[0m\u001b[0m\n\u001b[1;32m     35\u001b[0m   \u001b[0;31m# calculate frequencies of each class\u001b[0m\u001b[0;34m\u001b[0m\u001b[0;34m\u001b[0m\u001b[0m\n",
            "\u001b[0;31mTypeError\u001b[0m: tuple indices must be integers or slices, not str"
          ]
        },
        {
          "output_type": "display_data",
          "data": {
            "text/plain": [
              "<Figure size 1000x600 with 1 Axes>"
            ],
            "image/png": "[encoded data removed]"
          },
          "metadata": {}
        }
      ],
      "source": [
        "from torch.utils.data import Subset, Dataset, random_split\n",
        "import matplotlib.pyplot as plt\n",
        "import numpy as np\n",
        "from PIL import Image\n",
        "\n",
        "def rotate_picture(picture, rotation):\n",
        "  \"\"\"\n",
        "  Rotate the image by the given degrees: 90, 180, 270, or 360.\n",
        "\n",
        "  :param picture: Image to rotate\n",
        "  :param rotation: Rotation in degrees\n",
        "  :return: Rotated image\n",
        "  \"\"\"\n",
        "\n",
        "  # raise error\n",
        "  if rotation not in [90, 180, 270, 360]:\n",
        "    raise ValueError(\"Rotation angle should be 90, 180, 270, or 360\")\n",
        "\n",
        "  return picture.rotate(rotation)\n",
        "\n",
        "\n",
        "def plot_histogram(data):\n",
        "  \"\"\"\n",
        "\n",
        "  Plot a histogram with the frequencies of each class.\n",
        "\n",
        "  data: EuroSAT dataset\n",
        "  return: fig, ax\n",
        "  \"\"\"\n",
        "\n",
        "  fig, ax = plt.subplots(figsize=(10, 6))\n",
        "\n",
        "  labels = [item['label'] for item in data]\n",
        "\n",
        "  # calculate frequencies of each class\n",
        "  label_counts = Counter(labels)\n",
        "\n",
        "  # prepare data for plotting\n",
        "  labels = list(label_counts.keys())\n",
        "  counts = list(label_counts.values())\n",
        "\n",
        "  # plot the histogram\n",
        "  ax.bar(labels, counts)\n",
        "  ax.set_xlabel('Class')\n",
        "  ax.set_ylabel('Frequency')\n",
        "  ax.set_title('Class Frequency Histogram')\n",
        "\n",
        "  # annotating each bar with the count\n",
        "  for i, count in enumerate(counts):\n",
        "    ax.text(i, count + 0.1, f\"{labels[i]}:{count}\", ha='center')\n",
        "\n",
        "  return fig, ax\n",
        "\n",
        "\n",
        "new_pic = rotate_picture(pic, 90) # Example of rotating a picture by 90 degrees\n",
        "same_pic = rotate_picture(pic, 360) # Example of rotating a picture by 360 degrees (should return the same picture)\n",
        "fig, ax = plot_histogram(data)\n",
        "fig.show()"
      ]
    },
    {
      "cell_type": "code",
      "execution_count": null,
      "metadata": {
        "id": "9jEZFpHtMpmL"
      },
      "outputs": [],
      "source": [
        "fig, axes = plt.subplots(1, 3, figsize=(10, 5))\n",
        "\n",
        "axes[0].imshow(pic)\n",
        "axes[0].set_title(\"Original picture\")\n",
        "axes[1].imshow(new_pic)\n",
        "axes[1].set_title(\"Rotated by 90°\")\n",
        "axes[2].imshow(same_pic)\n",
        "axes[2].set_title(\"Rotated by 360°\")"
      ]
    },
    {
      "cell_type": "code",
      "execution_count": null,
      "metadata": {
        "id": "zD-Ij7cAt_wu"
      },
      "outputs": [],
      "source": [
        "class RotateEuroSAT(Dataset):\n",
        "    def __init__(self,\n",
        "                 original_data:Dataset,\n",
        "                 length:int,\n",
        "                 shares:list,\n",
        "                 device=None,\n",
        "                 seed=42):\n",
        "\n",
        "        self.original_data = original_data\n",
        "        self.length = length\n",
        "        assert sum(shares)  == 1, \"Shares must sum to 1\"\n",
        "        assert len(shares) == len(original_data.classes), \"Shares must match number of classes\"\n",
        "        self.shares = shares\n",
        "        self.seed = seed\n",
        "        self.device = device\n",
        "        self.dataset = self._create_rotated_dataset()\n",
        "\n",
        "    def __len__(self):\n",
        "        return self.length\n",
        "\n",
        "    def __getitem__(self, idx):\n",
        "        picture, label = self.dataset[idx]\n",
        "        return picture, label\n",
        "\n",
        "    def _create_rotated_dataset(self):\n",
        "        \"\"\"#TODO: implement solution\"\"\"\n",
        "        return dataset\n",
        "\n",
        "\n",
        ""
      ]
    },
    {
      "cell_type": "code",
      "execution_count": null,
      "metadata": {
        "id": "jPEhmWRhMpmM"
      },
      "outputs": [],
      "source": [
        "rotated_data = RotateEuroSAT(data,\n",
        "                             length=10**4,\n",
        "                             shares=[1 / len(data.classes) for _ in data.classes],\n",
        "                             seed=42)\n",
        "\n",
        "train_data, test_data = random_split(rotated_data, [0.8, 0.2])"
      ]
    },
    {
      "cell_type": "markdown",
      "metadata": {
        "id": "RuDwG0K5hN8K"
      },
      "source": [
        "## Task 2: Implement a max pooling class and a CNN model(15 pt)\n",
        "Implement a classification model to predict the label of the faces in the dataset. You are free to experiment with the network architecture. However your model **must** contain:\n",
        "- At least one max pooling layer, implemented with `MyMaxPool`,\n",
        "- Convolutional, linear, and pooling layers only,\n",
        "- At least 3 convolutional layers, with at least two different kernel sizes,\n",
        "- A final output layer that is customizable to the number of classes that we want to predict.\n",
        "\n",
        "#### Briefly explain why you chose the particular architecture you implemented (around 2-3 sentences).\n"
      ]
    },
    {
      "cell_type": "code",
      "execution_count": null,
      "metadata": {
        "id": "VVHQhPndvqKu"
      },
      "outputs": [],
      "source": [
        "import torch\n",
        "import torch.nn as nn\n",
        "\n",
        "class MyMaxPool(nn.Sequential):\n",
        "\n",
        "  def __init__(self,\n",
        "               kernel_size,\n",
        "               stride=1,\n",
        "               padding=0):\n",
        "\n",
        "    super().__init__()\n",
        "    '''#TODO: construction your model'''\n",
        "\n",
        "  def forward(self, x):\n",
        "    '''#TODO: forward step'''\n",
        "\n",
        "\n",
        "class MyCNNModel(nn.Sequential):\n",
        "\n",
        "  def __init__(self,\n",
        "               n_classes):\n",
        "\n",
        "    super().__init__()\n",
        "    '''#TODO: construction your model'''\n",
        "\n",
        "  def forward(self, x):\n",
        "    '''#TODO: forward step'''\n",
        "\n"
      ]
    },
    {
      "cell_type": "code",
      "execution_count": null,
      "metadata": {
        "id": "oOVl0a2kHupx"
      },
      "outputs": [],
      "source": [
        "'''#TODO: print one iteration of your model to test its correctness'''\n",
        "\n",
        "my_model = MyCNNModel(n_classes=3)\n",
        "X, y = train_data[0]\n",
        "my_model(X[None, :])"
      ]
    },
    {
      "cell_type": "markdown",
      "metadata": {
        "id": "No6lasumGTkQ"
      },
      "source": [
        "## Training\n",
        "\n",
        "We define a `Trainer` function to train our model that returns avg loss and avg accuracy per epoch. We set the configuration of the trainer is set in the `cfg` dictionary. Use the trainer to train your model and make sure to print and plot avg loss and accuracy using the in-built commands."
      ]
    },
    {
      "cell_type": "code",
      "execution_count": null,
      "metadata": {
        "id": "ZsUHs5doTPD0"
      },
      "outputs": [],
      "source": [
        "from datetime import datetime as dt\n",
        "import torch.optim as optim\n",
        "from torch.utils.data import DataLoader\n",
        "from tqdm import tqdm\n",
        "import matplotlib.pyplot as plt\n",
        "\n",
        "cfg = {\n",
        "    'batch_size': 64,\n",
        "    'criterion': 'CrossEntropyLoss', #change to 'nn.NLLLoss' if you are applying a softmax in the last layer of your model\n",
        "    'epochs': 1,\n",
        "    'learning_rate': 0.001,\n",
        "    'optimizer':'Adam',\n",
        "    'seed':42,\n",
        "\n",
        "}\n",
        "\n",
        "class Trainer:\n",
        "\n",
        "    def __init__(self, model, cfg):\n",
        "        self.model = model\n",
        "        self.cfg = cfg\n",
        "\n",
        "        for key, val in cfg.items():\n",
        "            setattr(self, key, val)\n",
        "\n",
        "        self.optimizer = getattr(optim, self.optimizer)(self.model.parameters(), lr=self.learning_rate)\n",
        "        self.criterion = getattr(nn, self.criterion)()\n",
        "\n",
        "\n",
        "    def iter_step(self, X, Y):\n",
        "        Y_pred = self.model(X)\n",
        "        loss = self.criterion(Y_pred, Y)\n",
        "        acc = (Y_pred.argmax(dim=-1) == Y).to(torch.float).mean()\n",
        "        return loss, acc\n",
        "\n",
        "    def train(self, dataset):\n",
        "        train_dataloader = DataLoader(dataset, batch_size=self.batch_size, shuffle=True, generator=torch.manual_seed(self.seed))\n",
        "        avg_loss, avg_acc = [], []\n",
        "        tot_loss, tot_acc = 0, 0\n",
        "        for epoch in range(self.epochs):\n",
        "            iterdata = iter(train_dataloader)\n",
        "            train_size = len(iterdata)\n",
        "            pbar = tqdm(iterable=range(train_size))\n",
        "\n",
        "            for i in pbar:\n",
        "                batch = next(iterdata)\n",
        "                X_batch, Y_batch = batch #this is needed for compatibility with pbar\n",
        "                self.model.train()\n",
        "                self.optimizer.zero_grad()\n",
        "                loss, acc = self.iter_step(X_batch, Y_batch)\n",
        "                loss.backward()\n",
        "                self.optimizer.step()\n",
        "                tot_loss += loss.item()\n",
        "                tot_acc += acc.item()\n",
        "                avg_loss.append(tot_loss / max(1, len(avg_loss)))\n",
        "                avg_acc.append(tot_acc / max(1, len(avg_acc)))\n",
        "                desc = f'Epoch:{epoch} - Avg loss:{avg_loss[-1]:.5f} - Avg acc:{avg_acc[-1]:.5f}'\n",
        "                pbar.set_description(desc)\n",
        "\n",
        "        return avg_loss, avg_acc\n",
        "\n",
        "    def test(self, dataset):\n",
        "        avg_test_loss, avg_test_acc = [], []\n",
        "        test_loss, test_acc = 0, 0\n",
        "        self.model.eval()\n",
        "        test_dataloader = DataLoader(dataset, batch_size=self.batch_size, shuffle=True, generator=torch.manual_seed(self.seed))\n",
        "\n",
        "        for X_batch, Y_batch in iter(test_dataloader):\n",
        "            loss, acc = self.iter_step(X_batch, Y_batch)\n",
        "            test_loss += loss.item()\n",
        "            test_acc += acc\n",
        "            avg_test_loss.append(test_loss / max(1, len(avg_test_loss)))\n",
        "            avg_test_acc.append(test_acc / max(1, len(avg_test_acc)))\n",
        "\n",
        "        return avg_test_loss, avg_test_acc\n",
        "\n"
      ]
    },
    {
      "cell_type": "code",
      "execution_count": null,
      "metadata": {
        "id": "3iDGmuiGksqP"
      },
      "outputs": [],
      "source": [
        "'''#TODO: train your model, plot accuracy and loss by iteration (one iteration=one batch)'''\n",
        "my_trainer = Trainer(my_model, cfg)\n",
        "train_loss, train_acc = my_trainer.train(train_data)\n",
        "fig, (ax0, ax1) = plt.subplots(1,2)\n",
        "ax0.plot(range(len(train_loss)), train_loss)\n",
        "ax1.plot(range(len(train_acc)), train_acc)\n",
        "ax0.set_title('Training loss')\n",
        "ax1.set_title('Training accuracy')"
      ]
    },
    {
      "cell_type": "code",
      "execution_count": null,
      "metadata": {
        "id": "JDfgU18pllpT"
      },
      "outputs": [],
      "source": [
        "'''#TODO: test your model, plot accuracy and loss by iteration (one iteration=one batch)'''\n",
        "test_loss, test_acc = my_trainer.test(test_data)\n",
        "fig, (ax0, ax1) = plt.subplots(1,2)\n",
        "ax0.plot(range(len(test_loss)), test_loss)\n",
        "ax1.plot(range(len(test_acc)), test_acc)\n",
        "ax0.set_title('Test loss')\n",
        "ax1.set_title('Test accuracy')"
      ]
    },
    {
      "cell_type": "markdown",
      "metadata": {
        "id": "_AvPUd76zVOk"
      },
      "source": [
        "## Task 3: Tune your training hyperparameters (optional, 10 pt)\n",
        "\n",
        "Implement a method <code>grid_search</code>, which looks for the best possible learning rates and training batch sizes for your model <code>MyCNNModel</code> and returns the best possible model, the corresponding training configuration, and the final training avg losses and accuracies (as numbers)."
      ]
    },
    {
      "cell_type": "code",
      "execution_count": null,
      "metadata": {
        "id": "AJtGS3EB4NFy"
      },
      "outputs": [],
      "source": [
        "def grid_search(train_dataset, cfg, learning_rates=[10**-1, 10**-2, 10**-3], batch_sizes=[2**5, 2**6, 2**7]):\n",
        "    '''#TODO: here your code '''\n",
        "    return best_model, best_cfg, best_avg_loss, best_avg_acc\n",
        "\n",
        "\n",
        "best_model, best_cfg, best_avg_loss, best_avg_acc = grid_search(train_data, cfg, learning_rates=[10**-1, 10**-2, 10**-3], batch_sizes=[2**5, 2**6, 2**7])\n",
        "print(f\"Best model achieves {best_avg_loss:.2f} loss and {best_avg_acc:.1%} accuracy\").\n"
      ]
    },
    {
      "cell_type": "markdown",
      "metadata": {
        "id": "CLLCQpv14Gsx"
      },
      "source": [
        "## Task 3: Load and fine-tune a pre-trained model (10 pt)\n",
        "\n",
        "<ul>\n",
        "  <li>Load and train a pre-trained model for classification problems, such as those made available in <a href=\"https://huggingface.co/docs/timm\">Hugging Face's timm library</a>. </li>\n",
        "  <li> Make sure to modify the output layer to be compatible with the number of classes. </li>\n",
        "  <li>Print a summary of your results.</li>\n",
        "  <li>Briefly explain why you chose the particular architecture you did (around 2-3 sentences).</li>\n",
        "  </ul>\n",
        "  \n",
        "<b>Note</b>: in case you run into computing-related (e.g. memory) issues, consider choosing another model."
      ]
    },
    {
      "cell_type": "code",
      "execution_count": null,
      "metadata": {
        "id": "Na1giLKlT0M3"
      },
      "outputs": [],
      "source": [
        "'''#TODO: import and fine-tune a pretrained model'''\n",
        "loaded_model = None #here your loaded model\n",
        "loaded_trainer = Trainer(loaded_model, cfg)"
      ]
    },
    {
      "cell_type": "code",
      "execution_count": null,
      "metadata": {
        "id": "wXjFg5gNl1iO"
      },
      "outputs": [],
      "source": [
        "'''#TODO: train your model, plot accuracy and loss by iteration (one iteration=one batch)'''\n",
        "train_loss, train_acc = loaded_trainer.train(train_data)\n",
        "fig, (ax0, ax1) = plt.subplots(1,2)\n",
        "ax0.plot(range(len(train_loss)), train_loss)\n",
        "ax1.plot(range(len(train_acc)), train_acc)\n",
        "ax0.set_title('Training loss')\n",
        "ax1.set_title('Training accuracy')"
      ]
    },
    {
      "cell_type": "code",
      "execution_count": null,
      "metadata": {
        "id": "rjKQ8pVql1iO"
      },
      "outputs": [],
      "source": [
        "'''#TODO: test your model, plot accuracy and loss by iteration (one iteration=one batch)'''\n",
        "test_loss, test_acc = loaded_trainer.test(test_data)\n",
        "fig, (ax0, ax1) = plt.subplots(1,2)\n",
        "ax0.plot(range(len(test_loss)), test_loss)\n",
        "ax1.plot(range(len(test_acc)), test_acc)\n",
        "ax0.set_title('Test loss')\n",
        "ax1.set_title('Test accuracy')\n"
      ]
    },
    {
      "cell_type": "markdown",
      "metadata": {
        "id": "ZhkmytKNU_Z2"
      },
      "source": [
        "<a name=\"results-and-discussion\"></a>\n",
        "# Task  4: Results and discussion (5pt)\n",
        "\n",
        "Report the final metrics and make a few comments on the overall performance for the networks you implemented (3-4 lines).\n",
        "\n",
        "| Test metric         | your model | pre-trained model | your tuned model (optional) |\n",
        "|---------------------|--------------------|-------------------|-----------------------|\n",
        "| Accuracy (train)           |              |             |                |                     \n",
        "| Loss (train)               |               |             |                |    \n",
        "| Accuracy (test)           |              |             |                |                     \n",
        "| Loss (test)               |               |             |                |              \n",
        "             \n",
        "\n",
        "\n",
        "\n"
      ]
    }
  ],
  "metadata": {
    "accelerator": "GPU",
    "colab": {
      "gpuType": "T4",
      "machine_shape": "hm",
      "provenance": []
    },
    "kernelspec": {
      "display_name": "venv",
      "language": "python",
      "name": "python3"
    },
    "language_info": {
      "codemirror_mode": {
        "name": "ipython",
        "version": 3
      },
      "file_extension": ".py",
      "mimetype": "text/x-python",
      "name": "python",
      "nbconvert_exporter": "python",
      "pygments_lexer": "ipython3",
      "version": "3.12.4"
    }
  },
  "nbformat": 4,
  "nbformat_minor": 0
}